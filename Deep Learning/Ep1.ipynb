{
 "cells": [
  {
   "cell_type": "code",
   "execution_count": 1,
   "source": [
    "# I am using ipython to work with deep learning interactivly.. I love this!"
   ],
   "outputs": [],
   "metadata": {}
  },
  {
   "cell_type": "code",
   "execution_count": 2,
   "source": [
    "# The Neuron\r\n",
    "inputs  = [1.0, 2.0, 3.0, 2.5]\r\n",
    "weights = [0.2, 0.8, -0.5, 1.0]\r\n",
    "bias = 2.0\r\n",
    "\r\n",
    "output = sum([inputs[i]*weights[i] for i in range(len(inputs))]) + bias\r\n",
    "print(output)"
   ],
   "outputs": [
    {
     "output_type": "stream",
     "name": "stdout",
     "text": [
      "4.8\n"
     ]
    }
   ],
   "metadata": {}
  },
  {
   "cell_type": "code",
   "execution_count": 3,
   "source": [
    "# The Layer\r\n",
    "# We have Number of neurons in a layer\r\n",
    "# Each Neuron has its own bias and different/same weights\r\n",
    "inputs = [1.0, 2.0, 3.0, 2.5]\r\n",
    "weights_list = [[0.2, 0.8, -0.5, 1.0], [0.5, -0.91, 0.26, -0.5], [-0.26, -0.27, 0.17, 0.87]]\r\n",
    "biases = [2.0, 3.0, 0.5]\r\n",
    "\r\n",
    "outputs = []\r\n",
    "[outputs.append(sum([inputs[i]*weights_list[neuron][i] for i in range(len(inputs))]) + biases[neuron])\\\r\n",
    "    for neuron in range(len(weights_list))]\r\n",
    "\r\n",
    "print(outputs) # Done!!"
   ],
   "outputs": [
    {
     "output_type": "stream",
     "name": "stdout",
     "text": [
      "[4.8, 1.21, 2.385]\n"
     ]
    }
   ],
   "metadata": {}
  },
  {
   "cell_type": "markdown",
   "source": [
    "##### NUMPY"
   ],
   "metadata": {}
  },
  {
   "cell_type": "code",
   "execution_count": 4,
   "source": [
    "# Numpy is an easier and more convienient way to work with maths -------> Now We'll use Numpy\r\n",
    "import numpy as np"
   ],
   "outputs": [],
   "metadata": {}
  },
  {
   "cell_type": "code",
   "execution_count": 5,
   "source": [
    "# The Dot Product\r\n",
    "\r\n",
    "inputs  = [1.0, 2.0, 3.0, 2.5]\r\n",
    "weights = [0.2, 0.8, -0.5, 1.0]\r\n",
    "bias = 2.0\r\n",
    "\r\n",
    "output = np.dot(weights, inputs) + bias\r\n",
    "print(output)"
   ],
   "outputs": [
    {
     "output_type": "stream",
     "name": "stdout",
     "text": [
      "4.8\n"
     ]
    }
   ],
   "metadata": {}
  },
  {
   "cell_type": "code",
   "execution_count": 6,
   "source": [
    "# Make sure to put the Bigger Dimension first --x--> Shape/Dimension Error!\r\n",
    "\r\n",
    "inputs = [1.0, 2.0, 3.0, 2.5]\r\n",
    "weights_list = [[0.2, 0.8, -0.5, 1.0], [0.5, -0.91, 0.26, -0.5], [-0.26, -0.27, 0.17, 0.87]]\r\n",
    "biases = [2.0, 3.0, 0.5]\r\n",
    "\r\n",
    "outputs = np.dot(weights_list, inputs) + biases\r\n",
    "print(outputs)"
   ],
   "outputs": [
    {
     "output_type": "stream",
     "name": "stdout",
     "text": [
      "[4.8   1.21  2.385]\n"
     ]
    }
   ],
   "metadata": {}
  },
  {
   "cell_type": "code",
   "execution_count": 7,
   "source": [
    "# Batches\r\n",
    "\r\n",
    "inputs = [[1.0, 2.0, 3.0, 2.5], [2.0, 5.0, -1.0, 2.0], [-1.5, 2.7, 3.3, -0.8]]\r\n",
    "weights_list = [[0.2, 0.8, -0.5, 1.0], [0.5, -0.91, 0.26, -0.5], [-0.26, -0.27, 0.17, 0.87]]\r\n",
    "biases = [2.0, 3.0, 0.5]\r\n",
    "\r\n",
    "outputs = np.dot(inputs, np.array(weights_list).T) + biases\r\n",
    "\r\n",
    "print(outputs)"
   ],
   "outputs": [
    {
     "output_type": "stream",
     "name": "stdout",
     "text": [
      "[[ 4.8    1.21   2.385]\n",
      " [ 8.9   -1.81   0.2  ]\n",
      " [ 1.41   1.051  0.026]]\n"
     ]
    }
   ],
   "metadata": {}
  },
  {
   "cell_type": "code",
   "execution_count": 8,
   "source": [
    "# Layers\r\n",
    "inputs = [[1.0, 2.0, 3.0, 2.5], [2.0, 5.0, -1.0, 2.0], [-1.5, 2.7, 3.3, -0.8]]\r\n",
    "weights_list = [[0.2, 0.8, -0.5, 1.0], [0.5, -0.91, 0.26, -0.5], [-0.26, -0.27, 0.17, 0.87]]\r\n",
    "biases = [2.0, 3.0, 0.5]\r\n",
    "\r\n",
    "weights_list2 = [[0.1, -0.14, 0.5], [-0.5, 0.12, -0.33], [-0.44, 0.73, -0.13]]\r\n",
    "biases2 = [-1, 2, -0.5]\r\n",
    "\r\n",
    "layer1_outputs = np.dot(inputs, np.array(weights_list).T) + biases\r\n",
    "layer2_outputs = np.dot(layer1_outputs, np.array(weights_list2).T) + biases2\r\n",
    "\r\n",
    "print(layer2_outputs)\r\n",
    "\r\n"
   ],
   "outputs": [
    {
     "output_type": "stream",
     "name": "stdout",
     "text": [
      "[[ 0.5031  -1.04185 -2.03875]\n",
      " [ 0.2434  -2.7332  -5.7633 ]\n",
      " [-0.99314  1.41254 -0.35655]]\n"
     ]
    }
   ],
   "metadata": {}
  },
  {
   "cell_type": "code",
   "execution_count": 9,
   "source": [
    "# So from here I will stop using ipynb --> we will convert this to an object!"
   ],
   "outputs": [],
   "metadata": {}
  }
 ],
 "metadata": {
  "orig_nbformat": 4,
  "language_info": {
   "name": "python",
   "version": "3.9.2",
   "mimetype": "text/x-python",
   "codemirror_mode": {
    "name": "ipython",
    "version": 3
   },
   "pygments_lexer": "ipython3",
   "nbconvert_exporter": "python",
   "file_extension": ".py"
  },
  "kernelspec": {
   "name": "python3",
   "display_name": "Python 3.9.2 64-bit"
  },
  "interpreter": {
   "hash": "fe174e94ce8ff3888569602ec4aef88c3454c8c1602269a7b283792952dd50f3"
  }
 },
 "nbformat": 4,
 "nbformat_minor": 2
}