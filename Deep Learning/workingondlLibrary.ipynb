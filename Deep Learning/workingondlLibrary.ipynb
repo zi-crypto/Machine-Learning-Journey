{
 "cells": [
  {
   "cell_type": "code",
   "execution_count": 2,
   "source": [
    "import dl\r\n",
    "from nnfs.datasets import spiral_data\r\n",
    "import matplotlib.pyplot as plt"
   ],
   "outputs": [],
   "metadata": {}
  },
  {
   "cell_type": "code",
   "execution_count": 3,
   "source": [
    "clf = dl.ActivationReLU()\r\n",
    "outputs = clf.forward([1, -3, 4, 5.5])\r\n",
    "print(outputs)"
   ],
   "outputs": [
    {
     "output_type": "stream",
     "name": "stdout",
     "text": [
      "[1.  0.  4.  5.5]\n"
     ]
    }
   ],
   "metadata": {}
  },
  {
   "cell_type": "code",
   "execution_count": 7,
   "source": [
    "X, y = spiral_data(100, 3) \r\n",
    "\r\n",
    "layer1 = dl.Layer(2, 3)\r\n",
    "activation1 = dl.ActivationReLU()\r\n",
    "\r\n",
    "layer2 = dl.Layer(3, 3)\r\n",
    "activation2 = dl.ActivationSoftmax()\r\n",
    "\r\n",
    "layer1.forward(X)\r\n",
    "activation1.forward(layer1.output)\r\n",
    "\r\n",
    "layer2.forward(activation1.output)\r\n",
    "activation2.forward(layer2.output)\r\n",
    "\r\n",
    "print(activation2.output[:5])\r\n",
    "\r\n",
    "loss_function = dl.CategoricalCrossEntropy()\r\n",
    "loss = loss_function.calculate(activation2.output, y)\r\n",
    "\r\n",
    "print(loss)"
   ],
   "outputs": [
    {
     "output_type": "stream",
     "name": "stdout",
     "text": [
      "[[0.33333333 0.33333333 0.33333333]\n",
      " [0.33334757 0.33332499 0.33332744]\n",
      " [0.33339037 0.33328995 0.33331968]\n",
      " [0.33337944 0.33330551 0.33331506]\n",
      " [0.33340106 0.33329097 0.33330798]]\n",
      "1.0988715031526282\n"
     ]
    }
   ],
   "metadata": {}
  },
  {
   "cell_type": "code",
   "execution_count": null,
   "source": [],
   "outputs": [],
   "metadata": {}
  },
  {
   "cell_type": "code",
   "execution_count": null,
   "source": [],
   "outputs": [],
   "metadata": {}
  }
 ],
 "metadata": {
  "orig_nbformat": 4,
  "language_info": {
   "name": "python",
   "version": "3.9.2",
   "mimetype": "text/x-python",
   "codemirror_mode": {
    "name": "ipython",
    "version": 3
   },
   "pygments_lexer": "ipython3",
   "nbconvert_exporter": "python",
   "file_extension": ".py"
  },
  "kernelspec": {
   "name": "python3",
   "display_name": "Python 3.9.2 64-bit"
  },
  "interpreter": {
   "hash": "fe174e94ce8ff3888569602ec4aef88c3454c8c1602269a7b283792952dd50f3"
  }
 },
 "nbformat": 4,
 "nbformat_minor": 2
}